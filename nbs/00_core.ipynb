{
 "cells": [
  {
   "cell_type": "code",
   "execution_count": null,
   "id": "3de405d0",
   "metadata": {},
   "outputs": [],
   "source": [
    "#| default_exp core"
   ]
  },
  {
   "cell_type": "markdown",
   "id": "bdfca9e9",
   "metadata": {},
   "source": [
    "# Core source\n",
    "- Source code for core API"
   ]
  },
  {
   "cell_type": "code",
   "execution_count": null,
   "id": "7d19f793",
   "metadata": {},
   "outputs": [],
   "source": [
    "#| export\n",
    "from fa6_icons.icons import icons\n",
    "from fastcore.utils import *"
   ]
  },
  {
   "cell_type": "code",
   "execution_count": null,
   "id": "2c6bf9dc",
   "metadata": {},
   "outputs": [],
   "source": [
    "#| export\n",
    "class SvgNotStr(NotStr):\n",
    "    \"Behaves list a `str`, but isn't a `str`, and displays as SVG in a notebook\"\n",
    "    w=150\n",
    "    def _repr_html_(self): return f'<div style=\"max-width: {self.w}px; width: 100%;\">{self}</div>'\n",
    "    def width(self, w:int):\n",
    "        \"Set the width and return self\"\n",
    "        self.w = w\n",
    "        return self"
   ]
  },
  {
   "cell_type": "code",
   "execution_count": null,
   "id": "bdea3cde",
   "metadata": {},
   "outputs": [],
   "source": [
    "#| export\n",
    "def _svgs(o): return {k:SvgNotStr(v['raw']) for k,v in o.items()}\n",
    "\n",
    "def _name(o):\n",
    "    if o[0].isdigit(): o = '_'+o\n",
    "    return o.replace('-','_')\n",
    "\n",
    "svgs = dict2obj({_name(k):_svgs(v['svg']) for k,v in icons.items()})"
   ]
  },
  {
   "cell_type": "code",
   "execution_count": null,
   "id": "c3caf71e",
   "metadata": {},
   "outputs": [
    {
     "data": {
      "text/html": [
       "<div style=\"max-width: 100px; width: 100%;\"><svg xmlns=\"http://www.w3.org/2000/svg\" viewBox=\"0 0 320 512\"><path d=\"M0 192C0 103.6 71.6 32 160 32s160 71.6 160 160l0 128c0 88.4-71.6 160-160 160S0 408.4 0 320L0 192zM160 96c-53 0-96 43-96 96l0 128c0 53 43 96 96 96s96-43 96-96l0-128c0-53-43-96-96-96z\"/></svg></div>"
      ],
      "text/plain": [
       "'<svg xmlns=\"http://www.w3.org/2000/svg\" viewBox=\"0 0 320 512\"><path d=\"M0 192C0 103.6 71.6 32 160 32s160 71.6 160 160l0 128c0 88.4-71.6 160-160 160S0 408.4 0 320L0 192zM160 96c-53 0-96 43-96 96l0 128c0 53 43 96 96 96s96-43 96-96l0-128c0-53-43-96-96-96z\"/></svg>'"
      ]
     },
     "execution_count": null,
     "metadata": {},
     "output_type": "execute_result"
    }
   ],
   "source": [
    "svgs._0.solid.width(100)"
   ]
  },
  {
   "cell_type": "code",
   "execution_count": null,
   "id": "2f0f65e3",
   "metadata": {},
   "outputs": [],
   "source": [
    "#| export\n",
    "def _dims(o): return {k:(v['height'],v['width']) for k,v in o.items()}\n",
    "\n",
    "dims = dict2obj({_name(k):_dims(v['svg']) for k,v in icons.items()})"
   ]
  },
  {
   "cell_type": "code",
   "execution_count": null,
   "id": "4523ec85",
   "metadata": {},
   "outputs": [
    {
     "data": {
      "text/plain": [
       "(512, 320)"
      ]
     },
     "execution_count": null,
     "metadata": {},
     "output_type": "execute_result"
    }
   ],
   "source": [
    "dims._0.solid"
   ]
  },
  {
   "cell_type": "markdown",
   "id": "474e14b4",
   "metadata": {},
   "source": [
    "## Export -"
   ]
  },
  {
   "cell_type": "code",
   "execution_count": null,
   "id": "d211e8e2",
   "metadata": {},
   "outputs": [],
   "source": [
    "#|hide\n",
    "import nbdev; nbdev.nbdev_export()"
   ]
  },
  {
   "cell_type": "code",
   "execution_count": null,
   "id": "7f8a709d",
   "metadata": {},
   "outputs": [],
   "source": []
  }
 ],
 "metadata": {
  "kernelspec": {
   "display_name": "python3",
   "language": "python",
   "name": "python3"
  }
 },
 "nbformat": 4,
 "nbformat_minor": 5
}
